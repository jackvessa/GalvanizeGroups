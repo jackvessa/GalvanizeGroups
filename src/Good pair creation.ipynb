{
 "cells": [
  {
   "cell_type": "markdown",
   "metadata": {},
   "source": [
    "# Identification of pairs without repeat\n",
    "The Pairs class relies on an past_pairs.xlsx file containing all past pairs (copy paste from our Google sheet of pairs)"
   ]
  },
  {
   "cell_type": "code",
   "execution_count": 1,
   "metadata": {},
   "outputs": [],
   "source": [
    "import datetime\n",
    "import numpy as np\n",
    "import pandas as pd\n",
    "import math\n",
    "from IPython.display import display, Markdown\n",
    "\n",
    "from pairs import Pairs"
   ]
  },
  {
   "cell_type": "code",
   "execution_count": 2,
   "metadata": {},
   "outputs": [],
   "source": [
    "pairs = Pairs()"
   ]
  },
  {
   "cell_type": "code",
   "execution_count": 5,
   "metadata": {},
   "outputs": [],
   "source": [
    "pairs.init()"
   ]
  },
  {
   "cell_type": "code",
   "execution_count": 6,
   "metadata": {
    "scrolled": false
   },
   "outputs": [
    {
     "data": {
      "text/markdown": [
       "## Pairing with 0 repeats:"
      ],
      "text/plain": [
       "<IPython.core.display.Markdown object>"
      ]
     },
     "metadata": {},
     "output_type": "display_data"
    },
    {
     "data": {
      "text/html": [
       "<div>\n",
       "<style scoped>\n",
       "    .dataframe tbody tr th:only-of-type {\n",
       "        vertical-align: middle;\n",
       "    }\n",
       "\n",
       "    .dataframe tbody tr th {\n",
       "        vertical-align: top;\n",
       "    }\n",
       "\n",
       "    .dataframe thead th {\n",
       "        text-align: right;\n",
       "    }\n",
       "</style>\n",
       "<table border=\"1\" class=\"dataframe\">\n",
       "  <thead>\n",
       "    <tr style=\"text-align: right;\">\n",
       "      <th></th>\n",
       "      <th>0</th>\n",
       "      <th>1</th>\n",
       "    </tr>\n",
       "  </thead>\n",
       "  <tbody>\n",
       "    <tr>\n",
       "      <th>0</th>\n",
       "      <td>Adam Ricks</td>\n",
       "      <td>Nathan Laird</td>\n",
       "    </tr>\n",
       "    <tr>\n",
       "      <th>1</th>\n",
       "      <td>Anna Gadiraju</td>\n",
       "      <td>Jack Vessa</td>\n",
       "    </tr>\n",
       "    <tr>\n",
       "      <th>2</th>\n",
       "      <td>Lea Balido</td>\n",
       "      <td>Egor Bykov</td>\n",
       "    </tr>\n",
       "    <tr>\n",
       "      <th>3</th>\n",
       "      <td>Nina Nguyen</td>\n",
       "      <td>Linh Chau</td>\n",
       "    </tr>\n",
       "    <tr>\n",
       "      <th>4</th>\n",
       "      <td>Katerina Schulz</td>\n",
       "      <td>Simon Bunieski</td>\n",
       "    </tr>\n",
       "    <tr>\n",
       "      <th>5</th>\n",
       "      <td>Matt Hwang</td>\n",
       "      <td>Eric Wang</td>\n",
       "    </tr>\n",
       "    <tr>\n",
       "      <th>6</th>\n",
       "      <td>Aaron Lee</td>\n",
       "      <td>Elaine Wu</td>\n",
       "    </tr>\n",
       "    <tr>\n",
       "      <th>7</th>\n",
       "      <td>Robert Faltisco</td>\n",
       "      <td>Michael Ramsey</td>\n",
       "    </tr>\n",
       "  </tbody>\n",
       "</table>\n",
       "</div>"
      ],
      "text/plain": [
       "                 0               1\n",
       "0       Adam Ricks    Nathan Laird\n",
       "1    Anna Gadiraju      Jack Vessa\n",
       "2       Lea Balido      Egor Bykov\n",
       "3      Nina Nguyen       Linh Chau\n",
       "4  Katerina Schulz  Simon Bunieski\n",
       "5       Matt Hwang       Eric Wang\n",
       "6        Aaron Lee       Elaine Wu\n",
       "7  Robert Faltisco  Michael Ramsey"
      ]
     },
     "metadata": {},
     "output_type": "display_data"
    },
    {
     "name": "stdout",
     "output_type": "stream",
     "text": [
      "Elapsed time: 0:00:00.081813\n"
     ]
    }
   ],
   "source": [
    "# generate enough random samples to find a good combination\n",
    "SAMPLES = 10000\n",
    "\n",
    "start = datetime.datetime.now()\n",
    "found = False\n",
    "for _ in range(SAMPLES):\n",
    "    draw = np.random.choice(pairs.studArr, pairs.len, replace=False)\n",
    "    newPairs = set()\n",
    "    for i in range(math.floor(pairs.len/2)):\n",
    "        newPairs.add(frozenset([draw[2*i], draw[2*i+1]]))\n",
    "    match_count = pairs.check_new(newPairs)\n",
    "#     print(match_count)\n",
    "    if match_count == 0:\n",
    "        display(Markdown('## Pairing with 0 repeats:'))\n",
    "        display(pd.DataFrame(newPairs))\n",
    "        found = True\n",
    "        break\n",
    "    \n",
    "if found == False:\n",
    "    print('no combination w/ 0 repeats found')\n",
    "\n",
    "print('Elapsed time:',str(datetime.datetime.now() - start))"
   ]
  },
  {
   "cell_type": "markdown",
   "metadata": {},
   "source": [
    "## Optional: manual check of a specific pair assignment\n",
    "1. Paste the pairs to new_pairs.csv\n",
    "2. Run the check below:  "
   ]
  },
  {
   "cell_type": "code",
   "execution_count": 11,
   "metadata": {},
   "outputs": [
    {
     "name": "stdout",
     "output_type": "stream",
     "text": [
      "No exact pair repeat found\n",
      "No trio repeat found\n",
      "No pair in trio repeat found\n"
     ]
    },
    {
     "data": {
      "text/plain": [
       "0"
      ]
     },
     "execution_count": 11,
     "metadata": {},
     "output_type": "execute_result"
    }
   ],
   "source": [
    "pairs.check_new(verbose=True)"
   ]
  },
  {
   "cell_type": "markdown",
   "metadata": {},
   "source": [
    "## After the new pairing has been approved\n",
    "Add the new pairing to the past_pairs.csv file"
   ]
  },
  {
   "cell_type": "code",
   "execution_count": null,
   "metadata": {},
   "outputs": [],
   "source": [
    "pairs = Pairs()"
   ]
  },
  {
   "cell_type": "code",
   "execution_count": null,
   "metadata": {},
   "outputs": [],
   "source": [
    "pairs.init()\n",
    "pairs.total_pair_loss()"
   ]
  },
  {
   "cell_type": "code",
   "execution_count": null,
   "metadata": {},
   "outputs": [],
   "source": [
    "pairs.init()\n",
    "print(pairs.studArr.shape)"
   ]
  },
  {
   "cell_type": "code",
   "execution_count": null,
   "metadata": {},
   "outputs": [],
   "source": [
    "# generate enough random samples to find a good combination\n",
    "SAMPLES = 10000\n",
    "start = datetime.datetime.now()\n",
    "found = False\n",
    "max_loss = 0\n",
    "for _ in range(SAMPLES):\n",
    "    draw = np.random.choice(pairs.studArr, pairs.len, replace=False)\n",
    "    newPairs = set()\n",
    "    for i in range(math.floor(pairs.len/2)):\n",
    "        newPairs.add(frozenset([draw[2*i], draw[2*i+1]]))\n",
    "    loss = pairs.total_pair_loss(newPairs)\n",
    "    if loss > max_loss:\n",
    "        max_loss = loss\n",
    "\n",
    "print(max_loss)\n",
    "\n",
    "print('Elapsed time:',str(datetime.datetime.now() - start))"
   ]
  },
  {
   "cell_type": "code",
   "execution_count": null,
   "metadata": {},
   "outputs": [],
   "source": []
  }
 ],
 "metadata": {
  "kernelspec": {
   "display_name": "Python 3",
   "language": "python",
   "name": "python3"
  },
  "language_info": {
   "codemirror_mode": {
    "name": "ipython",
    "version": 3
   },
   "file_extension": ".py",
   "mimetype": "text/x-python",
   "name": "python",
   "nbconvert_exporter": "python",
   "pygments_lexer": "ipython3",
   "version": "3.7.3"
  }
 },
 "nbformat": 4,
 "nbformat_minor": 2
}
