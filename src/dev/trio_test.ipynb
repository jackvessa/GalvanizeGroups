{
 "cells": [
  {
   "cell_type": "markdown",
   "metadata": {},
   "source": [
    "# Identification of pairs without repeat\n",
    "The Pairs class relies on an past_pairs.xlsx file containing all past pairs (copy paste from our Google sheet of pairs)"
   ]
  },
  {
   "cell_type": "code",
   "execution_count": 23,
   "metadata": {},
   "outputs": [],
   "source": [
    "import datetime\n",
    "import numpy as np\n",
    "import pandas as pd\n",
    "import math\n",
    "from IPython.display import display, Markdown\n",
    "\n",
    "from pairs import Pairs"
   ]
  },
  {
   "cell_type": "code",
   "execution_count": 31,
   "metadata": {},
   "outputs": [],
   "source": [
    "pairs = Pairs()"
   ]
  },
  {
   "cell_type": "code",
   "execution_count": 32,
   "metadata": {},
   "outputs": [],
   "source": [
    "pairs.init()"
   ]
  },
  {
   "cell_type": "markdown",
   "metadata": {},
   "source": [
    "## Good basic solution"
   ]
  },
  {
   "cell_type": "code",
   "execution_count": 33,
   "metadata": {},
   "outputs": [
    {
     "data": {
      "text/markdown": [
       "## Pairing with 0 repeats:"
      ],
      "text/plain": [
       "<IPython.core.display.Markdown object>"
      ]
     },
     "metadata": {},
     "output_type": "display_data"
    },
    {
     "data": {
      "text/html": [
       "<div>\n",
       "<style scoped>\n",
       "    .dataframe tbody tr th:only-of-type {\n",
       "        vertical-align: middle;\n",
       "    }\n",
       "\n",
       "    .dataframe tbody tr th {\n",
       "        vertical-align: top;\n",
       "    }\n",
       "\n",
       "    .dataframe thead th {\n",
       "        text-align: right;\n",
       "    }\n",
       "</style>\n",
       "<table border=\"1\" class=\"dataframe\">\n",
       "  <thead>\n",
       "    <tr style=\"text-align: right;\">\n",
       "      <th></th>\n",
       "      <th>1</th>\n",
       "      <th>2</th>\n",
       "    </tr>\n",
       "    <tr>\n",
       "      <th>0</th>\n",
       "      <th></th>\n",
       "      <th></th>\n",
       "    </tr>\n",
       "  </thead>\n",
       "  <tbody>\n",
       "    <tr>\n",
       "      <th>Linh Chau</th>\n",
       "      <td>Lea Balido</td>\n",
       "      <td></td>\n",
       "    </tr>\n",
       "    <tr>\n",
       "      <th>Egor Bykov</th>\n",
       "      <td>Nina Nguyen</td>\n",
       "      <td></td>\n",
       "    </tr>\n",
       "    <tr>\n",
       "      <th>Aaron Lee</th>\n",
       "      <td>Michael Ramsey</td>\n",
       "      <td></td>\n",
       "    </tr>\n",
       "    <tr>\n",
       "      <th>Nathan Laird</th>\n",
       "      <td>Simon Bunieski</td>\n",
       "      <td></td>\n",
       "    </tr>\n",
       "    <tr>\n",
       "      <th>Jack Vessa</th>\n",
       "      <td>Adam Ricks</td>\n",
       "      <td></td>\n",
       "    </tr>\n",
       "    <tr>\n",
       "      <th>Brian Hu</th>\n",
       "      <td>Matt Hwang</td>\n",
       "      <td></td>\n",
       "    </tr>\n",
       "    <tr>\n",
       "      <th>Anna Gadiraju</th>\n",
       "      <td>Robert Faltisco</td>\n",
       "      <td></td>\n",
       "    </tr>\n",
       "    <tr>\n",
       "      <th>Katerina Schulz</th>\n",
       "      <td>Eric Wang</td>\n",
       "      <td>Elaine Wu</td>\n",
       "    </tr>\n",
       "  </tbody>\n",
       "</table>\n",
       "</div>"
      ],
      "text/plain": [
       "                               1          2\n",
       "0                                          \n",
       "Linh Chau             Lea Balido           \n",
       "Egor Bykov           Nina Nguyen           \n",
       "Aaron Lee         Michael Ramsey           \n",
       "Nathan Laird      Simon Bunieski           \n",
       "Jack Vessa            Adam Ricks           \n",
       "Brian Hu              Matt Hwang           \n",
       "Anna Gadiraju    Robert Faltisco           \n",
       "Katerina Schulz        Eric Wang  Elaine Wu"
      ]
     },
     "metadata": {},
     "output_type": "display_data"
    },
    {
     "name": "stdout",
     "output_type": "stream",
     "text": [
      "Elapsed time: 0:00:00.072850\n"
     ]
    }
   ],
   "source": [
    "# generate enough random samples to find a good combination\n",
    "SAMPLES = 10000\n",
    "\n",
    "start = datetime.datetime.now()\n",
    "found = False\n",
    "for _ in range(SAMPLES):\n",
    "    draw = np.random.choice(pairs.studArr, pairs.len, replace=False)\n",
    "    newPairs = set()\n",
    "    if pairs.len % 2 == 0:\n",
    "        for i in range(math.floor(pairs.len/2)):\n",
    "            newPairs.add(frozenset([draw[2*i], draw[2*i+1]]))\n",
    "    else:\n",
    "        for i in range(math.floor(pairs.len/2) - 1):\n",
    "            newPairs.add(frozenset([draw[2*i], draw[2*i+1]]))        \n",
    "        newPairs.add(frozenset([draw[pairs.len-3], draw[pairs.len-2], draw[pairs.len-1]]))\n",
    "        \n",
    "    match_count = pairs.check_new(newPairs)\n",
    "#     print(match_count)\n",
    "    if match_count == 0:\n",
    "        display(Markdown('## Pairing with 0 repeats:'))\n",
    "        display(pd.DataFrame(newPairs).fillna('').set_index(0))\n",
    "        found = True\n",
    "        break\n",
    "    \n",
    "if found == False:\n",
    "    print('no combination w/ 0 repeats found')\n",
    "\n",
    "print('Elapsed time:',str(datetime.datetime.now() - start))"
   ]
  },
  {
   "cell_type": "markdown",
   "metadata": {},
   "source": [
    "## For when we'll need repeats: more weight to pairs found multiple times\n",
    "## Debugging"
   ]
  },
  {
   "cell_type": "code",
   "execution_count": 9,
   "metadata": {},
   "outputs": [
    {
     "name": "stdout",
     "output_type": "stream",
     "text": [
      "Found one w/ no hits!\n",
      "Found one w/ no hits!\n",
      "Pair loss:  0\n",
      "Level difference loss:  2.97\n"
     ]
    },
    {
     "data": {
      "text/plain": [
       "2.97"
      ]
     },
     "execution_count": 9,
     "metadata": {},
     "output_type": "execute_result"
    }
   ],
   "source": [
    "pairs.total_pair_loss()"
   ]
  },
  {
   "cell_type": "code",
   "execution_count": null,
   "metadata": {},
   "outputs": [],
   "source": [
    "pairs.find_min()"
   ]
  },
  {
   "cell_type": "code",
   "execution_count": 20,
   "metadata": {
    "scrolled": false
   },
   "outputs": [
    {
     "name": "stdout",
     "output_type": "stream",
     "text": [
      "Lowest loss: 360.00\n",
      "Lowest loss: 250.00\n",
      "Lowest loss: 160.00\n",
      "No pair loss!\n",
      "{frozenset({'Eric Wang', 'Linh Chau'}), frozenset({'Katerina Schulz', 'Elaine Wu'}), frozenset({'Jack Vessa', 'Brian Hu'}), frozenset({'Aaron Lee', 'Robert Faltisco'}), frozenset({'Adam Ricks', 'Lea Balido'}), frozenset({'Nathan Laird', 'Matt Hwang'}), frozenset({'Egor Bykov', 'Michael Ramsey'})}\n",
      "Lowest loss: 0.00\n",
      "No pair loss!\n",
      "{frozenset({'Eric Wang', 'Linh Chau'}), frozenset({'Elaine Wu', 'Matt Hwang'}), frozenset({'Adam Ricks', 'Lea Balido'}), frozenset({'Anna Gadiraju', 'Robert Faltisco'}), frozenset({'Egor Bykov', 'Aaron Lee'}), frozenset({'Jack Vessa', 'Simon Bunieski'}), frozenset({'Brian Hu', 'Nina Nguyen'})}\n",
      "No pair loss!\n",
      "{frozenset({'Egor Bykov', 'Michael Ramsey'}), frozenset({'Linh Chau', 'Lea Balido'}), frozenset({'Jack Vessa', 'Eric Wang'}), frozenset({'Nathan Laird', 'Simon Bunieski'}), frozenset({'Aaron Lee', 'Anna Gadiraju'}), frozenset({'Elaine Wu', 'Matt Hwang'}), frozenset({'Brian Hu', 'Nina Nguyen'})}\n",
      "No pair loss!\n",
      "{frozenset({'Eric Wang', 'Nathan Laird'}), frozenset({'Elaine Wu', 'Lea Balido'}), frozenset({'Katerina Schulz', 'Linh Chau'}), frozenset({'Jack Vessa', 'Michael Ramsey'}), frozenset({'Anna Gadiraju', 'Adam Ricks'}), frozenset({'Aaron Lee', 'Simon Bunieski'}), frozenset({'Brian Hu', 'Nina Nguyen'})}\n",
      "No pair loss!\n",
      "{frozenset({'Brian Hu', 'Lea Balido'}), frozenset({'Katerina Schulz', 'Elaine Wu'}), frozenset({'Egor Bykov', 'Nina Nguyen'}), frozenset({'Simon Bunieski', 'Matt Hwang'}), frozenset({'Eric Wang', 'Adam Ricks'}), frozenset({'Aaron Lee', 'Robert Faltisco'}), frozenset({'Nathan Laird', 'Michael Ramsey'})}\n",
      "No pair loss!\n",
      "{frozenset({'Egor Bykov', 'Nina Nguyen'}), frozenset({'Aaron Lee', 'Lea Balido'}), frozenset({'Brian Hu', 'Adam Ricks'}), frozenset({'Elaine Wu', 'Linh Chau'}), frozenset({'Nathan Laird', 'Matt Hwang'}), frozenset({'Anna Gadiraju', 'Robert Faltisco'}), frozenset({'Jack Vessa', 'Simon Bunieski'})}\n",
      "No pair loss!\n",
      "{frozenset({'Michael Ramsey', 'Lea Balido'}), frozenset({'Jack Vessa', 'Brian Hu'}), frozenset({'Eric Wang', 'Adam Ricks'}), frozenset({'Katerina Schulz', 'Robert Faltisco'}), frozenset({'Elaine Wu', 'Linh Chau'}), frozenset({'Nathan Laird', 'Matt Hwang'}), frozenset({'Aaron Lee', 'Anna Gadiraju'})}\n",
      "No pair loss!\n",
      "{frozenset({'Eric Wang', 'Simon Bunieski'}), frozenset({'Anna Gadiraju', 'Nathan Laird'}), frozenset({'Elaine Wu', 'Adam Ricks'}), frozenset({'Jack Vessa', 'Robert Faltisco'}), frozenset({'Brian Hu', 'Michael Ramsey'}), frozenset({'Katerina Schulz', 'Lea Balido'}), frozenset({'Egor Bykov', 'Aaron Lee'})}\n",
      "No pair loss!\n",
      "{frozenset({'Egor Bykov', 'Brian Hu'}), frozenset({'Anna Gadiraju', 'Nina Nguyen'}), frozenset({'Simon Bunieski', 'Matt Hwang'}), frozenset({'Jack Vessa', 'Lea Balido'}), frozenset({'Aaron Lee', 'Robert Faltisco'}), frozenset({'Elaine Wu', 'Linh Chau'}), frozenset({'Katerina Schulz', 'Adam Ricks'})}\n",
      "No pair loss!\n",
      "{frozenset({'Eric Wang', 'Simon Bunieski'}), frozenset({'Brian Hu', 'Anna Gadiraju'}), frozenset({'Linh Chau', 'Lea Balido'}), frozenset({'Egor Bykov', 'Nina Nguyen'}), frozenset({'Nathan Laird', 'Michael Ramsey'}), frozenset({'Elaine Wu', 'Matt Hwang'}), frozenset({'Katerina Schulz', 'Adam Ricks'})}\n",
      "No pair loss!\n",
      "{frozenset({'Nathan Laird', 'Lea Balido'}), frozenset({'Brian Hu', 'Anna Gadiraju'}), frozenset({'Jack Vessa', 'Michael Ramsey'}), frozenset({'Eric Wang', 'Adam Ricks'}), frozenset({'Elaine Wu', 'Nina Nguyen'}), frozenset({'Robert Faltisco', 'Simon Bunieski'}), frozenset({'Egor Bykov', 'Aaron Lee'})}\n",
      "No pair loss!\n",
      "{frozenset({'Eric Wang', 'Linh Chau'}), frozenset({'Nathan Laird', 'Lea Balido'}), frozenset({'Egor Bykov', 'Nina Nguyen'}), frozenset({'Katerina Schulz', 'Anna Gadiraju'}), frozenset({'Adam Ricks', 'Robert Faltisco'}), frozenset({'Michael Ramsey', 'Simon Bunieski'}), frozenset({'Brian Hu', 'Matt Hwang'})}\n",
      "No pair loss!\n",
      "{frozenset({'Brian Hu', 'Aaron Lee'}), frozenset({'Jack Vessa', 'Eric Wang'}), frozenset({'Linh Chau', 'Nina Nguyen'}), frozenset({'Katerina Schulz', 'Anna Gadiraju'}), frozenset({'Adam Ricks', 'Robert Faltisco'}), frozenset({'Nathan Laird', 'Matt Hwang'}), frozenset({'Elaine Wu', 'Simon Bunieski'})}\n",
      "No pair loss!\n",
      "{frozenset({'Eric Wang', 'Nathan Laird'}), frozenset({'Simon Bunieski', 'Matt Hwang'}), frozenset({'Jack Vessa', 'Michael Ramsey'}), frozenset({'Adam Ricks', 'Lea Balido'}), frozenset({'Anna Gadiraju', 'Robert Faltisco'}), frozenset({'Egor Bykov', 'Aaron Lee'}), frozenset({'Brian Hu', 'Nina Nguyen'})}\n",
      "No pair loss!\n",
      "{frozenset({'Anna Gadiraju', 'Nina Nguyen'}), frozenset({'Eric Wang', 'Aaron Lee'}), frozenset({'Adam Ricks', 'Michael Ramsey'}), frozenset({'Jack Vessa', 'Lea Balido'}), frozenset({'Nathan Laird', 'Simon Bunieski'}), frozenset({'Katerina Schulz', 'Robert Faltisco'}), frozenset({'Elaine Wu', 'Linh Chau'})}\n",
      "No pair loss!\n",
      "{frozenset({'Eric Wang', 'Linh Chau'}), frozenset({'Brian Hu', 'Anna Gadiraju'}), frozenset({'Elaine Wu', 'Lea Balido'}), frozenset({'Katerina Schulz', 'Robert Faltisco'}), frozenset({'Egor Bykov', 'Adam Ricks'}), frozenset({'Nathan Laird', 'Matt Hwang'}), frozenset({'Aaron Lee', 'Simon Bunieski'})}\n",
      "No pair loss!\n",
      "{frozenset({'Linh Chau', 'Lea Balido'}), frozenset({'Brian Hu', 'Matt Hwang'}), frozenset({'Jack Vessa', 'Michael Ramsey'}), frozenset({'Anna Gadiraju', 'Adam Ricks'}), frozenset({'Katerina Schulz', 'Nathan Laird'}), frozenset({'Egor Bykov', 'Aaron Lee'}), frozenset({'Elaine Wu', 'Simon Bunieski'})}\n",
      "No pair loss!\n",
      "{frozenset({'Eric Wang', 'Nina Nguyen'}), frozenset({'Brian Hu', 'Lea Balido'}), frozenset({'Aaron Lee', 'Michael Ramsey'}), frozenset({'Katerina Schulz', 'Anna Gadiraju'}), frozenset({'Adam Ricks', 'Robert Faltisco'}), frozenset({'Nathan Laird', 'Matt Hwang'}), frozenset({'Jack Vessa', 'Simon Bunieski'})}\n",
      "No pair loss!\n",
      "{frozenset({'Anna Gadiraju', 'Nina Nguyen'}), frozenset({'Adam Ricks', 'Lea Balido'}), frozenset({'Elaine Wu', 'Linh Chau'}), frozenset({'Michael Ramsey', 'Simon Bunieski'}), frozenset({'Brian Hu', 'Matt Hwang'}), frozenset({'Katerina Schulz', 'Nathan Laird'}), frozenset({'Egor Bykov', 'Aaron Lee'})}\n",
      "No pair loss!\n",
      "{frozenset({'Brian Hu', 'Lea Balido'}), frozenset({'Eric Wang', 'Adam Ricks'}), frozenset({'Elaine Wu', 'Nina Nguyen'}), frozenset({'Egor Bykov', 'Robert Faltisco'}), frozenset({'Michael Ramsey', 'Simon Bunieski'}), frozenset({'Jack Vessa', 'Matt Hwang'}), frozenset({'Linh Chau', 'Nathan Laird'})}\n",
      "No pair loss!\n",
      "{frozenset({'Egor Bykov', 'Brian Hu'}), frozenset({'Adam Ricks', 'Michael Ramsey'}), frozenset({'Nathan Laird', 'Simon Bunieski'}), frozenset({'Katerina Schulz', 'Lea Balido'}), frozenset({'Elaine Wu', 'Nina Nguyen'}), frozenset({'Jack Vessa', 'Matt Hwang'}), frozenset({'Aaron Lee', 'Anna Gadiraju'})}\n",
      "No pair loss!\n",
      "{frozenset({'Linh Chau', 'Lea Balido'}), frozenset({'Eric Wang', 'Nathan Laird'}), frozenset({'Elaine Wu', 'Nina Nguyen'}), frozenset({'Adam Ricks', 'Robert Faltisco'}), frozenset({'Michael Ramsey', 'Simon Bunieski'}), frozenset({'Egor Bykov', 'Aaron Lee'}), frozenset({'Jack Vessa', 'Matt Hwang'})}\n",
      "No pair loss!\n",
      "{frozenset({'Eric Wang', 'Simon Bunieski'}), frozenset({'Nathan Laird', 'Lea Balido'}), frozenset({'Brian Hu', 'Anna Gadiraju'}), frozenset({'Adam Ricks', 'Michael Ramsey'}), frozenset({'Elaine Wu', 'Linh Chau'}), frozenset({'Egor Bykov', 'Aaron Lee'}), frozenset({'Jack Vessa', 'Matt Hwang'})}\n",
      "No pair loss!\n",
      "{frozenset({'Michael Ramsey', 'Lea Balido'}), frozenset({'Jack Vessa', 'Brian Hu'}), frozenset({'Katerina Schulz', 'Nathan Laird'}), frozenset({'Eric Wang', 'Adam Ricks'}), frozenset({'Robert Faltisco', 'Simon Bunieski'}), frozenset({'Elaine Wu', 'Matt Hwang'}), frozenset({'Egor Bykov', 'Aaron Lee'})}\n",
      "No pair loss!\n",
      "{frozenset({'Katerina Schulz', 'Elaine Wu'}), frozenset({'Eric Wang', 'Nathan Laird'}), frozenset({'Anna Gadiraju', 'Nina Nguyen'}), frozenset({'Aaron Lee', 'Lea Balido'}), frozenset({'Brian Hu', 'Adam Ricks'}), frozenset({'Michael Ramsey', 'Simon Bunieski'}), frozenset({'Jack Vessa', 'Matt Hwang'})}\n",
      "No pair loss!\n",
      "{frozenset({'Brian Hu', 'Aaron Lee'}), frozenset({'Elaine Wu', 'Lea Balido'}), frozenset({'Katerina Schulz', 'Anna Gadiraju'}), frozenset({'Eric Wang', 'Adam Ricks'}), frozenset({'Nathan Laird', 'Michael Ramsey'}), frozenset({'Egor Bykov', 'Robert Faltisco'}), frozenset({'Jack Vessa', 'Simon Bunieski'})}\n",
      "No pair loss!\n",
      "{frozenset({'Eric Wang', 'Nathan Laird'}), frozenset({'Egor Bykov', 'Nina Nguyen'}), frozenset({'Simon Bunieski', 'Matt Hwang'}), frozenset({'Aaron Lee', 'Michael Ramsey'}), frozenset({'Katerina Schulz', 'Robert Faltisco'}), frozenset({'Elaine Wu', 'Linh Chau'}), frozenset({'Anna Gadiraju', 'Adam Ricks'})}\n",
      "No pair loss!\n",
      "{frozenset({'Aaron Lee', 'Nina Nguyen'}), frozenset({'Michael Ramsey', 'Lea Balido'}), frozenset({'Jack Vessa', 'Brian Hu'}), frozenset({'Egor Bykov', 'Simon Bunieski'}), frozenset({'Katerina Schulz', 'Linh Chau'}), frozenset({'Elaine Wu', 'Nathan Laird'}), frozenset({'Anna Gadiraju', 'Robert Faltisco'})}\n"
     ]
    },
    {
     "name": "stdout",
     "output_type": "stream",
     "text": [
      "No pair loss!\n",
      "{frozenset({'Eric Wang', 'Linh Chau'}), frozenset({'Aaron Lee', 'Nina Nguyen'}), frozenset({'Simon Bunieski', 'Matt Hwang'}), frozenset({'Brian Hu', 'Adam Ricks'}), frozenset({'Katerina Schulz', 'Robert Faltisco'}), frozenset({'Elaine Wu', 'Nathan Laird'}), frozenset({'Egor Bykov', 'Michael Ramsey'})}\n",
      "No pair loss!\n",
      "{frozenset({'Eric Wang', 'Linh Chau'}), frozenset({'Aaron Lee', 'Nina Nguyen'}), frozenset({'Jack Vessa', 'Lea Balido'}), frozenset({'Nathan Laird', 'Simon Bunieski'}), frozenset({'Brian Hu', 'Michael Ramsey'}), frozenset({'Katerina Schulz', 'Robert Faltisco'}), frozenset({'Anna Gadiraju', 'Adam Ricks'})}\n",
      "No pair loss!\n",
      "{frozenset({'Nathan Laird', 'Lea Balido'}), frozenset({'Linh Chau', 'Aaron Lee'}), frozenset({'Anna Gadiraju', 'Robert Faltisco'}), frozenset({'Egor Bykov', 'Nina Nguyen'}), frozenset({'Katerina Schulz', 'Eric Wang'}), frozenset({'Elaine Wu', 'Matt Hwang'}), frozenset({'Jack Vessa', 'Simon Bunieski'})}\n"
     ]
    },
    {
     "data": {
      "text/markdown": [
       "## Final lowest loss: 0.00"
      ],
      "text/plain": [
       "<IPython.core.display.Markdown object>"
      ]
     },
     "metadata": {},
     "output_type": "display_data"
    },
    {
     "data": {
      "text/markdown": [
       "## Pairing with lowest loss:"
      ],
      "text/plain": [
       "<IPython.core.display.Markdown object>"
      ]
     },
     "metadata": {},
     "output_type": "display_data"
    },
    {
     "data": {
      "text/html": [
       "<div>\n",
       "<style scoped>\n",
       "    .dataframe tbody tr th:only-of-type {\n",
       "        vertical-align: middle;\n",
       "    }\n",
       "\n",
       "    .dataframe tbody tr th {\n",
       "        vertical-align: top;\n",
       "    }\n",
       "\n",
       "    .dataframe thead th {\n",
       "        text-align: right;\n",
       "    }\n",
       "</style>\n",
       "<table border=\"1\" class=\"dataframe\">\n",
       "  <thead>\n",
       "    <tr style=\"text-align: right;\">\n",
       "      <th></th>\n",
       "      <th>1</th>\n",
       "      <th>2</th>\n",
       "    </tr>\n",
       "    <tr>\n",
       "      <th>0</th>\n",
       "      <th></th>\n",
       "      <th></th>\n",
       "    </tr>\n",
       "  </thead>\n",
       "  <tbody>\n",
       "    <tr>\n",
       "      <th>Eric Wang</th>\n",
       "      <td>Linh Chau</td>\n",
       "      <td></td>\n",
       "    </tr>\n",
       "    <tr>\n",
       "      <th>Aaron Lee</th>\n",
       "      <td>Robert Faltisco</td>\n",
       "      <td></td>\n",
       "    </tr>\n",
       "    <tr>\n",
       "      <th>Nathan Laird</th>\n",
       "      <td>Matt Hwang</td>\n",
       "      <td></td>\n",
       "    </tr>\n",
       "    <tr>\n",
       "      <th>Elaine Wu</th>\n",
       "      <td>Robert Faltisco</td>\n",
       "      <td>Nina Nguyen</td>\n",
       "    </tr>\n",
       "    <tr>\n",
       "      <th>Katerina Schulz</th>\n",
       "      <td>Elaine Wu</td>\n",
       "      <td></td>\n",
       "    </tr>\n",
       "    <tr>\n",
       "      <th>Adam Ricks</th>\n",
       "      <td>Lea Balido</td>\n",
       "      <td></td>\n",
       "    </tr>\n",
       "    <tr>\n",
       "      <th>Jack Vessa</th>\n",
       "      <td>Brian Hu</td>\n",
       "      <td></td>\n",
       "    </tr>\n",
       "    <tr>\n",
       "      <th>Egor Bykov</th>\n",
       "      <td>Michael Ramsey</td>\n",
       "      <td></td>\n",
       "    </tr>\n",
       "  </tbody>\n",
       "</table>\n",
       "</div>"
      ],
      "text/plain": [
       "                               1            2\n",
       "0                                            \n",
       "Eric Wang              Linh Chau             \n",
       "Aaron Lee        Robert Faltisco             \n",
       "Nathan Laird          Matt Hwang             \n",
       "Elaine Wu        Robert Faltisco  Nina Nguyen\n",
       "Katerina Schulz        Elaine Wu             \n",
       "Adam Ricks            Lea Balido             \n",
       "Jack Vessa              Brian Hu             \n",
       "Egor Bykov        Michael Ramsey             "
      ]
     },
     "metadata": {},
     "output_type": "display_data"
    },
    {
     "name": "stdout",
     "output_type": "stream",
     "text": [
      "Elapsed time: 0:00:00.250735\n"
     ]
    }
   ],
   "source": [
    "# generate enough random samples to find a good combination\n",
    "SAMPLES = 2000\n",
    "\n",
    "start = datetime.datetime.now()\n",
    "best = {\n",
    "    'set': set(),\n",
    "    'loss': math.inf\n",
    "}\n",
    "\n",
    "for _ in range(SAMPLES):\n",
    "    draw = np.random.choice(pairs.studArr, pairs.len, replace=False)\n",
    "    newPairs = set()\n",
    "    if pairs.len % 2 == 0:\n",
    "        for i in range(math.floor(pairs.len/2)):\n",
    "            newPairs.add(frozenset([draw[2*i], draw[2*i+1]]))\n",
    "    else:\n",
    "        for i in range(math.floor(pairs.len/2) - 1):\n",
    "            newPairs.add(frozenset([draw[2*i], draw[2*i+1]]))        \n",
    "        newTrio = (frozenset([draw[pairs.len-3], draw[pairs.len-2], draw[pairs.len-1]]))\n",
    " \n",
    "    loss = pairs.total_pair_loss(newPairs)\n",
    "    \n",
    "    if best['loss'] > loss:\n",
    "        best['set'] = newPairs.copy()\n",
    "        best['loss'] = loss\n",
    "        print('Lowest loss: {0:.2f}'.format(loss))\n",
    "\n",
    "display(Markdown('## Final lowest loss: {0:.2f}'.format(best['loss'])))\n",
    "display(Markdown('## Pairing with lowest loss:'))\n",
    "best['set'].add(newTrio)\n",
    "display(pd.DataFrame(best['set']).fillna('').set_index(0))\n",
    "\n",
    "\n",
    "print('Elapsed time:',str(datetime.datetime.now() - start))"
   ]
  },
  {
   "cell_type": "code",
   "execution_count": 77,
   "metadata": {},
   "outputs": [
    {
     "name": "stdout",
     "output_type": "stream",
     "text": [
      "7 pairs found\n",
      "1 trios found\n",
      "No exact pair repeat found\n",
      "No trio repeat found\n",
      "A pair was found in a trio: {frozenset({'Nathan Laird', 'Robert Faltisco'}), frozenset({'Adam Ricks', 'Nathan Laird'})}\n"
     ]
    },
    {
     "data": {
      "text/plain": [
       "2"
      ]
     },
     "execution_count": 77,
     "metadata": {},
     "output_type": "execute_result"
    }
   ],
   "source": [
    "pairs.check_new(verbose=True)"
   ]
  },
  {
   "cell_type": "markdown",
   "metadata": {},
   "source": [
    "## After the new pairing has been approved\n",
    "Add the new pairing to the past_pairs.csv file"
   ]
  },
  {
   "cell_type": "code",
   "execution_count": 52,
   "metadata": {},
   "outputs": [],
   "source": [
    "pairs = Pairs()"
   ]
  },
  {
   "cell_type": "code",
   "execution_count": 53,
   "metadata": {},
   "outputs": [
    {
     "name": "stdout",
     "output_type": "stream",
     "text": [
      "to remove, just a test!\n",
      "to remove, just a test!\n",
      "to remove, just a test!\n",
      "to remove, just a test!\n",
      "to remove, just a test!\n",
      "to remove, just a test!\n",
      "to remove, just a test!\n",
      "to remove, just a test!\n",
      "to remove, just a test!\n",
      "to remove, just a test!\n",
      "to remove, just a test!\n",
      "to remove, just a test!\n",
      "to remove, just a test!\n",
      "to remove, just a test!\n",
      "to remove, just a test!\n",
      "to remove, just a test!\n",
      "to remove, just a test!\n",
      "to remove, just a test!\n",
      "to remove, just a test!\n",
      "to remove, just a test!\n",
      "to remove, just a test!\n",
      "to remove, just a test!\n",
      "to remove, just a test!\n",
      "to remove, just a test!\n",
      "to remove, just a test!\n",
      "to remove, just a test!\n",
      "to remove, just a test!\n",
      "No pair loss!\n",
      "{frozenset({'Nathan Laird', 'Matt Hwang'}), frozenset({'Egor Bykov', 'Nina Nguyen'}), frozenset({'Katerina Schulz', 'Linh Chau'}), frozenset({'Aaron Lee', 'Robert Faltisco'}), frozenset({'Brian Hu', 'Michael Ramsey'}), frozenset({'Anna Gadiraju', 'Adam Ricks'}), frozenset({'Elaine Wu', 'Simon Bunieski'})}\n"
     ]
    },
    {
     "data": {
      "text/plain": [
       "0"
      ]
     },
     "execution_count": 53,
     "metadata": {},
     "output_type": "execute_result"
    }
   ],
   "source": [
    "pairs.init()\n",
    "pairs.total_pair_loss()"
   ]
  },
  {
   "cell_type": "code",
   "execution_count": null,
   "metadata": {},
   "outputs": [],
   "source": [
    "pairs.init()\n",
    "print(pairs.studArr.shape)"
   ]
  },
  {
   "cell_type": "code",
   "execution_count": null,
   "metadata": {},
   "outputs": [],
   "source": [
    "# generate enough random samples to find a good combination\n",
    "SAMPLES = 5\n",
    "start = datetime.datetime.now()\n",
    "found = False\n",
    "max_loss = 0\n",
    "for _ in range(SAMPLES):\n",
    "    draw = np.random.choice(pairs.studArr, pairs.len, replace=False)\n",
    "    newPairs = set()\n",
    "    for i in range(math.floor(pairs.len/2)):\n",
    "        newPairs.add(frozenset([draw[2*i], draw[2*i+1]]))\n",
    "    loss = pairs.total_pair_loss(newPairs)\n",
    "    if loss > max_loss:\n",
    "        max_loss = loss\n",
    "\n",
    "print(max_loss)\n",
    "\n",
    "print('Elapsed time:',str(datetime.datetime.now() - start))"
   ]
  },
  {
   "cell_type": "code",
   "execution_count": 49,
   "metadata": {},
   "outputs": [
    {
     "data": {
      "text/plain": [
       "array([[2, 3],\n",
       "       [1, 2]])"
      ]
     },
     "execution_count": 49,
     "metadata": {},
     "output_type": "execute_result"
    }
   ],
   "source": [
    "myset = {frozenset({1,2,1,1,1,1}),frozenset({2,3})}\n",
    "res = pd.DataFrame(myset).fillna('').to_numpy()\n",
    "# res = np.asarray(myset)\n",
    "res"
   ]
  },
  {
   "cell_type": "code",
   "execution_count": 59,
   "metadata": {},
   "outputs": [
    {
     "data": {
      "text/plain": [
       "{(frozenset({1, 3}), frozenset({2, 3})),\n",
       " (frozenset({2, 3}), frozenset({1, 2})),\n",
       " (frozenset({1, 3}), frozenset({1, 2}))}"
      ]
     },
     "execution_count": 59,
     "metadata": {},
     "output_type": "execute_result"
    }
   ],
   "source": [
    "from itertools import combinations\n",
    "trios = set([frozenset((1,2)), frozenset((1,3)), frozenset((2,3))])\n",
    "set(combinations(trios,2))"
   ]
  },
  {
   "cell_type": "code",
   "execution_count": 71,
   "metadata": {},
   "outputs": [
    {
     "data": {
      "text/plain": [
       "'Pairing with 0 repeats:'"
      ]
     },
     "metadata": {},
     "output_type": "display_data"
    },
    {
     "data": {
      "text/html": [
       "<div>\n",
       "<style scoped>\n",
       "    .dataframe tbody tr th:only-of-type {\n",
       "        vertical-align: middle;\n",
       "    }\n",
       "\n",
       "    .dataframe tbody tr th {\n",
       "        vertical-align: top;\n",
       "    }\n",
       "\n",
       "    .dataframe thead th {\n",
       "        text-align: right;\n",
       "    }\n",
       "</style>\n",
       "<table border=\"1\" class=\"dataframe\">\n",
       "  <thead>\n",
       "    <tr style=\"text-align: right;\">\n",
       "      <th></th>\n",
       "      <th>1</th>\n",
       "      <th>2</th>\n",
       "    </tr>\n",
       "    <tr>\n",
       "      <th>0</th>\n",
       "      <th></th>\n",
       "      <th></th>\n",
       "    </tr>\n",
       "  </thead>\n",
       "  <tbody>\n",
       "    <tr>\n",
       "      <th>Katerina Schulz</th>\n",
       "      <td>Anna Gadiraju</td>\n",
       "      <td></td>\n",
       "    </tr>\n",
       "    <tr>\n",
       "      <th>Brian Hu</th>\n",
       "      <td>Lea Balido</td>\n",
       "      <td></td>\n",
       "    </tr>\n",
       "    <tr>\n",
       "      <th>Jack Vessa</th>\n",
       "      <td>Adam Ricks</td>\n",
       "      <td></td>\n",
       "    </tr>\n",
       "    <tr>\n",
       "      <th>Elaine Wu</th>\n",
       "      <td>Linh Chau</td>\n",
       "      <td></td>\n",
       "    </tr>\n",
       "    <tr>\n",
       "      <th>Nathan Laird</th>\n",
       "      <td>Matt Hwang</td>\n",
       "      <td></td>\n",
       "    </tr>\n",
       "    <tr>\n",
       "      <th>Eric Wang</th>\n",
       "      <td>Aaron Lee</td>\n",
       "      <td></td>\n",
       "    </tr>\n",
       "    <tr>\n",
       "      <th>Egor Bykov</th>\n",
       "      <td>Simon Bunieski</td>\n",
       "      <td></td>\n",
       "    </tr>\n",
       "    <tr>\n",
       "      <th>Michael Ramsey</th>\n",
       "      <td>Robert Faltisco</td>\n",
       "      <td>Nina Nguyen</td>\n",
       "    </tr>\n",
       "  </tbody>\n",
       "</table>\n",
       "</div>"
      ],
      "text/plain": [
       "                               1            2\n",
       "0                                            \n",
       "Katerina Schulz    Anna Gadiraju             \n",
       "Brian Hu              Lea Balido             \n",
       "Jack Vessa            Adam Ricks             \n",
       "Elaine Wu              Linh Chau             \n",
       "Nathan Laird          Matt Hwang             \n",
       "Eric Wang              Aaron Lee             \n",
       "Egor Bykov        Simon Bunieski             \n",
       "Michael Ramsey   Robert Faltisco  Nina Nguyen"
      ]
     },
     "metadata": {},
     "output_type": "display_data"
    },
    {
     "data": {
      "text/plain": [
       "({frozenset({'Brian Hu', 'Lea Balido'}),\n",
       "  frozenset({'Aaron Lee', 'Eric Wang'}),\n",
       "  frozenset({'Egor Bykov', 'Simon Bunieski'}),\n",
       "  frozenset({'Anna Gadiraju', 'Katerina Schulz'}),\n",
       "  frozenset({'Adam Ricks', 'Jack Vessa'}),\n",
       "  frozenset({'Elaine Wu', 'Linh Chau'}),\n",
       "  frozenset({'Matt Hwang', 'Nathan Laird'})},\n",
       " {frozenset({'Michael Ramsey', 'Nina Nguyen', 'Robert Faltisco'})})"
      ]
     },
     "execution_count": 71,
     "metadata": {},
     "output_type": "execute_result"
    }
   ],
   "source": [
    "pairs.find_min()"
   ]
  },
  {
   "cell_type": "code",
   "execution_count": 66,
   "metadata": {},
   "outputs": [
    {
     "data": {
      "text/plain": [
       "[1, 1, 1, 1]"
      ]
     },
     "execution_count": 66,
     "metadata": {},
     "output_type": "execute_result"
    }
   ],
   "source": [
    "[1] * 4"
   ]
  },
  {
   "cell_type": "code",
   "execution_count": 75,
   "metadata": {},
   "outputs": [
    {
     "data": {
      "text/plain": [
       "frozenset({'Brian Hu', 'Lea Balido'})"
      ]
     },
     "execution_count": 75,
     "metadata": {},
     "output_type": "execute_result"
    }
   ],
   "source": [
    "frozenset({'Brian Hu', 'Lea Balido'}) & {'Lea Balido', 'Brian Hu'}"
   ]
  },
  {
   "cell_type": "code",
   "execution_count": 82,
   "metadata": {},
   "outputs": [
    {
     "ename": "TypeError",
     "evalue": "unhashable type: 'set'",
     "output_type": "error",
     "traceback": [
      "\u001b[0;31m---------------------------------------------------------------------------\u001b[0m",
      "\u001b[0;31mTypeError\u001b[0m                                 Traceback (most recent call last)",
      "\u001b[0;32m<ipython-input-82-4aae066fcd8c>\u001b[0m in \u001b[0;36m<module>\u001b[0;34m\u001b[0m\n\u001b[0;32m----> 1\u001b[0;31m \u001b[0;34m(\u001b[0m\u001b[0;34m{\u001b[0m\u001b[0;34m{\u001b[0m\u001b[0;36m1\u001b[0m\u001b[0;34m,\u001b[0m\u001b[0;36m2\u001b[0m\u001b[0;34m}\u001b[0m\u001b[0;34m}\u001b[0m\u001b[0;34m)\u001b[0m\u001b[0;34m.\u001b[0m\u001b[0mcount\u001b[0m\u001b[0;34m(\u001b[0m\u001b[0;34m)\u001b[0m\u001b[0;34m\u001b[0m\u001b[0;34m\u001b[0m\u001b[0m\n\u001b[0m",
      "\u001b[0;31mTypeError\u001b[0m: unhashable type: 'set'"
     ]
    }
   ],
   "source": [
    "({{1,2}}).count()"
   ]
  },
  {
   "cell_type": "code",
   "execution_count": 83,
   "metadata": {},
   "outputs": [
    {
     "data": {
      "text/plain": [
       "2"
      ]
     },
     "execution_count": 83,
     "metadata": {},
     "output_type": "execute_result"
    }
   ],
   "source": [
    "len({1,2})"
   ]
  },
  {
   "cell_type": "code",
   "execution_count": 86,
   "metadata": {},
   "outputs": [
    {
     "data": {
      "text/plain": [
       "1"
      ]
     },
     "execution_count": 86,
     "metadata": {},
     "output_type": "execute_result"
    }
   ],
   "source": [
    "len({frozenset({1,2})})"
   ]
  },
  {
   "cell_type": "markdown",
   "metadata": {},
   "source": [
    "# Object copy on assignment, within for loop"
   ]
  },
  {
   "cell_type": "code",
   "execution_count": 98,
   "metadata": {},
   "outputs": [
    {
     "name": "stdout",
     "output_type": "stream",
     "text": [
      "{frozenset({'3', '4'}), frozenset({'4', '5'})}\n"
     ]
    },
    {
     "data": {
      "text/plain": [
       "{'set': {frozenset({'2', '3'}), frozenset({'1', '2'})}, 'loss': inf}"
      ]
     },
     "execution_count": 98,
     "metadata": {},
     "output_type": "execute_result"
    }
   ],
   "source": [
    "best = {'set': set(), 'loss': math.inf}\n",
    "for i in range(5):\n",
    "    newPairs = set()\n",
    "    newPairs.add(frozenset([str(i),str(i+1)]))\n",
    "    newPairs.add(frozenset([str(i),str(i-1)]))\n",
    "    if i == 2:\n",
    "        best['set'] = newPairs\n",
    "print(newPairs)\n",
    "best"
   ]
  },
  {
   "cell_type": "code",
   "execution_count": 1,
   "metadata": {},
   "outputs": [
    {
     "data": {
      "text/plain": [
       "set()"
      ]
     },
     "execution_count": 1,
     "metadata": {},
     "output_type": "execute_result"
    }
   ],
   "source": [
    "s = set()\n",
    "s"
   ]
  },
  {
   "cell_type": "code",
   "execution_count": null,
   "metadata": {},
   "outputs": [],
   "source": []
  }
 ],
 "metadata": {
  "kernelspec": {
   "display_name": "Python 3",
   "language": "python",
   "name": "python3"
  },
  "language_info": {
   "codemirror_mode": {
    "name": "ipython",
    "version": 3
   },
   "file_extension": ".py",
   "mimetype": "text/x-python",
   "name": "python",
   "nbconvert_exporter": "python",
   "pygments_lexer": "ipython3",
   "version": "3.7.3"
  }
 },
 "nbformat": 4,
 "nbformat_minor": 2
}
