{
 "cells": [
  {
   "cell_type": "markdown",
   "metadata": {},
   "source": [
    "## Number of combinations\n",
    "The correct approach is probably backtracking"
   ]
  },
  {
   "cell_type": "code",
   "execution_count": 1,
   "metadata": {},
   "outputs": [
    {
     "name": "stdout",
     "output_type": "stream",
     "text": [
      "6.5e+08\n"
     ]
    }
   ],
   "source": [
    "import math\n",
    "print('{0:.1e}'.format(math.factorial(19) / (2**math.floor(19/2) * math.factorial(math.floor(19/2)))))"
   ]
  },
  {
   "cell_type": "markdown",
   "metadata": {},
   "source": [
    "## Random pairs"
   ]
  },
  {
   "cell_type": "code",
   "execution_count": null,
   "metadata": {},
   "outputs": [],
   "source": [
    "import numpy as np\n",
    "np.random.choice"
   ]
  },
  {
   "cell_type": "markdown",
   "metadata": {},
   "source": [
    "## Combinations creation"
   ]
  },
  {
   "cell_type": "code",
   "execution_count": 2,
   "metadata": {},
   "outputs": [],
   "source": [
    "import numpy as np\n",
    "import pandas as pd"
   ]
  },
  {
   "cell_type": "code",
   "execution_count": 45,
   "metadata": {},
   "outputs": [],
   "source": [
    "students = pd.read_excel('./students.xlsx')"
   ]
  },
  {
   "cell_type": "code",
   "execution_count": 54,
   "metadata": {},
   "outputs": [
    {
     "data": {
      "text/plain": [
       "{0: 'Aaron Lee',\n",
       " 1: 'Adam Ricks',\n",
       " 2: 'Anna Gadiraju',\n",
       " 3: 'Brian Hu',\n",
       " 4: 'Egor Bykov',\n",
       " 5: 'Elaine Wu',\n",
       " 6: 'Eric Wang',\n",
       " 7: 'Jack Vessa',\n",
       " 8: 'Katerina Schulz',\n",
       " 9: 'Kenny Yeung',\n",
       " 10: 'Lea Balido',\n",
       " 11: 'Linh Chau',\n",
       " 12: 'Matt Hwang',\n",
       " 13: 'Michael Ramsey',\n",
       " 14: 'Nathan Laird',\n",
       " 15: 'Nina Nguyen',\n",
       " 16: 'Robert Faltisco',\n",
       " 17: 'Simon Bunieski',\n",
       " 18: 'Zoe Dashdavaa'}"
      ]
     },
     "execution_count": 54,
     "metadata": {},
     "output_type": "execute_result"
    }
   ],
   "source": [
    "studentDico = (students\n",
    " .sort_values(by='Students')\n",
    " .reset_index(drop=True)\n",
    " .to_dict()['Students'])\n",
    "studentDico"
   ]
  },
  {
   "cell_type": "code",
   "execution_count": 55,
   "metadata": {},
   "outputs": [
    {
     "data": {
      "text/plain": [
       "19"
      ]
     },
     "execution_count": 55,
     "metadata": {},
     "output_type": "execute_result"
    }
   ],
   "source": [
    "from itertools import permutations\n",
    "nb_students = len(studentDico)\n",
    "nb_students"
   ]
  },
  {
   "cell_type": "code",
   "execution_count": null,
   "metadata": {},
   "outputs": [],
   "source": [
    "perms = permutations(range(nb_students), nb_students)\n",
    "len(list(perms))"
   ]
  },
  {
   "cell_type": "code",
   "execution_count": null,
   "metadata": {},
   "outputs": [],
   "source": [
    "Create pairs from the permutations"
   ]
  },
  {
   "cell_type": "code",
   "execution_count": null,
   "metadata": {},
   "outputs": [],
   "source": [
    "import datetime\n",
    " \n",
    "currentDT = datetime.datetime.now()\n",
    "print (str(currentDT))"
   ]
  },
  {
   "cell_type": "markdown",
   "metadata": {},
   "source": [
    "# others"
   ]
  },
  {
   "cell_type": "code",
   "execution_count": 37,
   "metadata": {},
   "outputs": [
    {
     "data": {
      "text/plain": [
       "{'Aaron Lee',\n",
       " 'Adam Ricks',\n",
       " 'Anna Gadiraju',\n",
       " 'Brian Hu',\n",
       " 'Egor Bykov',\n",
       " 'Elaine Wu',\n",
       " 'Eric Wang',\n",
       " 'Jack Vessa',\n",
       " 'Katerina Schulz',\n",
       " 'Kenny Yeung',\n",
       " 'Lea Balido',\n",
       " 'Linh Chau',\n",
       " 'Matt Hwang',\n",
       " 'Michael Ramsey',\n",
       " 'Nathan Laird',\n",
       " 'Nina Nguyen',\n",
       " 'Robert Faltisco',\n",
       " 'Simon Bunieski',\n",
       " 'Zoe Dashdavaa'}"
      ]
     },
     "execution_count": 37,
     "metadata": {},
     "output_type": "execute_result"
    }
   ],
   "source": [
    "sset = set(students.sort_values(by='Students')['Students'])\n",
    "sset"
   ]
  },
  {
   "cell_type": "code",
   "execution_count": null,
   "metadata": {},
   "outputs": [],
   "source": []
  },
  {
   "cell_type": "code",
   "execution_count": 40,
   "metadata": {},
   "outputs": [
    {
     "data": {
      "text/plain": [
       "{'Students': {0: 'Aaron Lee',\n",
       "  1: 'Adam Ricks',\n",
       "  2: 'Anna Gadiraju',\n",
       "  3: 'Brian Hu',\n",
       "  4: 'Egor Bykov',\n",
       "  5: 'Elaine Wu',\n",
       "  6: 'Eric Wang',\n",
       "  7: 'Jack Vessa',\n",
       "  8: 'Katerina Schulz',\n",
       "  9: 'Kenny Yeung',\n",
       "  10: 'Lea Balido',\n",
       "  11: 'Linh Chau',\n",
       "  12: 'Matt Hwang',\n",
       "  13: 'Michael Ramsey',\n",
       "  14: 'Nathan Laird',\n",
       "  15: 'Nina Nguyen',\n",
       "  16: 'Robert Faltisco',\n",
       "  17: 'Simon Bunieski',\n",
       "  18: 'Zoe Dashdavaa'}}"
      ]
     },
     "execution_count": 40,
     "metadata": {},
     "output_type": "execute_result"
    }
   ],
   "source": [
    "sdico"
   ]
  },
  {
   "cell_type": "code",
   "execution_count": null,
   "metadata": {},
   "outputs": [],
   "source": [
    "get length, pick a number"
   ]
  },
  {
   "cell_type": "markdown",
   "metadata": {},
   "source": [
    "'Forward pairs': to avoid re-creating the same pairs, only pair with a student further in the list.\n",
    "Systematically covering all 'forward pairs' will create all possible pairs."
   ]
  },
  {
   "cell_type": "code",
   "execution_count": null,
   "metadata": {},
   "outputs": [],
   "source": [
    "pairs = []\n",
    "nb_students = students.shape[0]\n",
    "def add_pairs(i, pairing_so_far):\n",
    "    if i == nb_students\n",
    "    for j in range(i+1,nb_students):\n",
    "        pairing = pairing_so_far.copy().append(set(i,j))"
   ]
  },
  {
   "cell_type": "code",
   "execution_count": 41,
   "metadata": {},
   "outputs": [],
   "source": [
    "from itertools import combinations, permutations"
   ]
  },
  {
   "cell_type": "markdown",
   "metadata": {},
   "source": [
    "## Permutations\n",
    "Problem: pair duplicates "
   ]
  },
  {
   "cell_type": "code",
   "execution_count": 42,
   "metadata": {},
   "outputs": [],
   "source": [
    "perms = permutations(range(4), 4)"
   ]
  },
  {
   "cell_type": "code",
   "execution_count": 44,
   "metadata": {},
   "outputs": [
    {
     "name": "stdout",
     "output_type": "stream",
     "text": [
      "[(0, 1, 2, 3), (0, 1, 3, 2), (0, 2, 1, 3), (0, 2, 3, 1), (0, 3, 1, 2), (0, 3, 2, 1), (1, 0, 2, 3), (1, 0, 3, 2), (1, 2, 0, 3), (1, 2, 3, 0), (1, 3, 0, 2), (1, 3, 2, 0), (2, 0, 1, 3), (2, 0, 3, 1), (2, 1, 0, 3), (2, 1, 3, 0), (2, 3, 0, 1), (2, 3, 1, 0), (3, 0, 1, 2), (3, 0, 2, 1), (3, 1, 0, 2), (3, 1, 2, 0), (3, 2, 0, 1), (3, 2, 1, 0)]\n"
     ]
    }
   ],
   "source": [
    "print(list(perms))"
   ]
  },
  {
   "cell_type": "code",
   "execution_count": null,
   "metadata": {},
   "outputs": [],
   "source": [
    "combs = combinations(students['Students'][:4],2)"
   ]
  },
  {
   "cell_type": "code",
   "execution_count": null,
   "metadata": {},
   "outputs": [],
   "source": [
    "print(list(combs))"
   ]
  },
  {
   "cell_type": "code",
   "execution_count": null,
   "metadata": {},
   "outputs": [],
   "source": [
    "\n",
    "    "
   ]
  }
 ],
 "metadata": {
  "kernelspec": {
   "display_name": "Python 3",
   "language": "python",
   "name": "python3"
  },
  "language_info": {
   "codemirror_mode": {
    "name": "ipython",
    "version": 3
   },
   "file_extension": ".py",
   "mimetype": "text/x-python",
   "name": "python",
   "nbconvert_exporter": "python",
   "pygments_lexer": "ipython3",
   "version": "3.7.3"
  }
 },
 "nbformat": 4,
 "nbformat_minor": 2
}
